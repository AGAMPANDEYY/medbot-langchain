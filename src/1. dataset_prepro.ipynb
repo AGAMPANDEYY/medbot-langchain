{
 "cells": [
  {
   "cell_type": "markdown",
   "metadata": {},
   "source": [
    "### Look at the notion link here: https://www.notion.so/Dataset-and-Collection-12ea18b0b202807e9b19d541b704e111"
   ]
  },
  {
   "cell_type": "markdown",
   "metadata": {},
   "source": [
    "Types of datasets to be used:\n",
    "\n",
    "1. QA from GitHub (but couldn't find specific to O&G)\n",
    "2. Text files scraped from articles on websites\n",
    "\n",
    "Relevant Links:\n"
   ]
  },
  {
   "cell_type": "markdown",
   "metadata": {},
   "source": []
  }
 ],
 "metadata": {
  "language_info": {
   "name": "python"
  }
 },
 "nbformat": 4,
 "nbformat_minor": 2
}
